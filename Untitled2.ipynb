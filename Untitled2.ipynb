{
  "nbformat": 4,
  "nbformat_minor": 0,
  "metadata": {
    "colab": {
      "provenance": []
    },
    "kernelspec": {
      "name": "python3",
      "display_name": "Python 3"
    },
    "language_info": {
      "name": "python"
    }
  },
  "cells": [
    {
      "cell_type": "code",
      "execution_count": 1,
      "metadata": {
        "colab": {
          "base_uri": "https://localhost:8080/"
        },
        "id": "WiAoKnJcMxi7",
        "outputId": "4f254268-3a9d-497b-f85c-2f3c740060d0"
      },
      "outputs": [
        {
          "output_type": "stream",
          "name": "stdout",
          "text": [
            "Requirement already satisfied: pip in /usr/local/lib/python3.10/dist-packages (23.1.2)\n",
            "Collecting pip\n",
            "  Downloading pip-24.0-py3-none-any.whl (2.1 MB)\n",
            "\u001b[2K     \u001b[90m━━━━━━━━━━━━━━━━━━━━━━━━━━━━━━━━━━━━━━━━\u001b[0m \u001b[32m2.1/2.1 MB\u001b[0m \u001b[31m19.1 MB/s\u001b[0m eta \u001b[36m0:00:00\u001b[0m\n",
            "\u001b[?25hInstalling collected packages: pip\n",
            "  Attempting uninstall: pip\n",
            "    Found existing installation: pip 23.1.2\n",
            "    Uninstalling pip-23.1.2:\n",
            "      Successfully uninstalled pip-23.1.2\n",
            "Successfully installed pip-24.0\n"
          ]
        }
      ],
      "source": [
        "!pip install --upgrade pip\n"
      ]
    },
    {
      "cell_type": "code",
      "source": [
        "from kerykeion import AstrologicalSubject\n",
        "kanye = AstrologicalSubject(\"Kanye\", 1977, 6, 8, 8, 45, \"Atlanta\")\n",
        "kanye.sun"
      ],
      "metadata": {
        "colab": {
          "base_uri": "https://localhost:8080/",
          "height": 350
        },
        "id": "cDhxqu7-NIk2",
        "outputId": "bead398b-863e-4f77-e849-fdf89a4badbc"
      },
      "execution_count": 2,
      "outputs": [
        {
          "output_type": "error",
          "ename": "ModuleNotFoundError",
          "evalue": "No module named 'kerykeion'",
          "traceback": [
            "\u001b[0;31m---------------------------------------------------------------------------\u001b[0m",
            "\u001b[0;31mModuleNotFoundError\u001b[0m                       Traceback (most recent call last)",
            "\u001b[0;32m<ipython-input-2-2f8cca948491>\u001b[0m in \u001b[0;36m<cell line: 1>\u001b[0;34m()\u001b[0m\n\u001b[0;32m----> 1\u001b[0;31m \u001b[0;32mfrom\u001b[0m \u001b[0mkerykeion\u001b[0m \u001b[0;32mimport\u001b[0m \u001b[0mAstrologicalSubject\u001b[0m\u001b[0;34m\u001b[0m\u001b[0;34m\u001b[0m\u001b[0m\n\u001b[0m\u001b[1;32m      2\u001b[0m \u001b[0mkanye\u001b[0m \u001b[0;34m=\u001b[0m \u001b[0mAstrologicalSubject\u001b[0m\u001b[0;34m(\u001b[0m\u001b[0;34m\"Kanye\"\u001b[0m\u001b[0;34m,\u001b[0m \u001b[0;36m1977\u001b[0m\u001b[0;34m,\u001b[0m \u001b[0;36m6\u001b[0m\u001b[0;34m,\u001b[0m \u001b[0;36m8\u001b[0m\u001b[0;34m,\u001b[0m \u001b[0;36m8\u001b[0m\u001b[0;34m,\u001b[0m \u001b[0;36m45\u001b[0m\u001b[0;34m,\u001b[0m \u001b[0;34m\"Atlanta\"\u001b[0m\u001b[0;34m)\u001b[0m\u001b[0;34m\u001b[0m\u001b[0;34m\u001b[0m\u001b[0m\n\u001b[1;32m      3\u001b[0m \u001b[0mkanye\u001b[0m\u001b[0;34m.\u001b[0m\u001b[0msun\u001b[0m\u001b[0;34m\u001b[0m\u001b[0;34m\u001b[0m\u001b[0m\n",
            "\u001b[0;31mModuleNotFoundError\u001b[0m: No module named 'kerykeion'",
            "",
            "\u001b[0;31m---------------------------------------------------------------------------\u001b[0;32m\nNOTE: If your import is failing due to a missing package, you can\nmanually install dependencies using either !pip or !apt.\n\nTo view examples of installing some common dependencies, click the\n\"Open Examples\" button below.\n\u001b[0;31m---------------------------------------------------------------------------\u001b[0m\n"
          ],
          "errorDetails": {
            "actions": [
              {
                "action": "open_url",
                "actionText": "Open Examples",
                "url": "/notebooks/snippets/importing_libraries.ipynb"
              }
            ]
          }
        }
      ]
    },
    {
      "source": [
        "!pip install kerykeion"
      ],
      "cell_type": "code",
      "metadata": {
        "colab": {
          "base_uri": "https://localhost:8080/"
        },
        "id": "MMFsSeMFNTds",
        "outputId": "f30faae7-c84b-4517-a557-8a8fe35f1e77"
      },
      "execution_count": 3,
      "outputs": [
        {
          "output_type": "stream",
          "name": "stdout",
          "text": [
            "Collecting kerykeion\n",
            "  Downloading kerykeion-4.4.2-py3-none-any.whl.metadata (10 kB)\n",
            "Requirement already satisfied: pydantic<3.0,>=2.5 in /usr/local/lib/python3.10/dist-packages (from kerykeion) (2.6.4)\n",
            "Collecting pyswisseph<3.0.0.0,>=2.10.3.1 (from kerykeion)\n",
            "  Downloading pyswisseph-2.10.3.2-cp310-cp310-manylinux_2_17_x86_64.manylinux2014_x86_64.whl.metadata (1.9 kB)\n",
            "Collecting pytz<2023.0,>=2022.7 (from kerykeion)\n",
            "  Downloading pytz-2022.7.1-py2.py3-none-any.whl.metadata (21 kB)\n",
            "Requirement already satisfied: requests<3.0.0,>=2.28.1 in /usr/local/lib/python3.10/dist-packages (from kerykeion) (2.31.0)\n",
            "Collecting requests-cache<0.10.0,>=0.9.7 (from kerykeion)\n",
            "  Downloading requests_cache-0.9.8-py3-none-any.whl.metadata (8.7 kB)\n",
            "Collecting terminaltables<4.0.0,>=3.1.10 (from kerykeion)\n",
            "  Downloading terminaltables-3.1.10-py2.py3-none-any.whl.metadata (3.5 kB)\n",
            "Requirement already satisfied: annotated-types>=0.4.0 in /usr/local/lib/python3.10/dist-packages (from pydantic<3.0,>=2.5->kerykeion) (0.6.0)\n",
            "Requirement already satisfied: pydantic-core==2.16.3 in /usr/local/lib/python3.10/dist-packages (from pydantic<3.0,>=2.5->kerykeion) (2.16.3)\n",
            "Requirement already satisfied: typing-extensions>=4.6.1 in /usr/local/lib/python3.10/dist-packages (from pydantic<3.0,>=2.5->kerykeion) (4.11.0)\n",
            "Requirement already satisfied: charset-normalizer<4,>=2 in /usr/local/lib/python3.10/dist-packages (from requests<3.0.0,>=2.28.1->kerykeion) (3.3.2)\n",
            "Requirement already satisfied: idna<4,>=2.5 in /usr/local/lib/python3.10/dist-packages (from requests<3.0.0,>=2.28.1->kerykeion) (3.6)\n",
            "Requirement already satisfied: urllib3<3,>=1.21.1 in /usr/local/lib/python3.10/dist-packages (from requests<3.0.0,>=2.28.1->kerykeion) (2.0.7)\n",
            "Requirement already satisfied: certifi>=2017.4.17 in /usr/local/lib/python3.10/dist-packages (from requests<3.0.0,>=2.28.1->kerykeion) (2024.2.2)\n",
            "Requirement already satisfied: appdirs>=1.4.4 in /usr/local/lib/python3.10/dist-packages (from requests-cache<0.10.0,>=0.9.7->kerykeion) (1.4.4)\n",
            "Requirement already satisfied: attrs>=21.2 in /usr/local/lib/python3.10/dist-packages (from requests-cache<0.10.0,>=0.9.7->kerykeion) (23.2.0)\n",
            "Collecting cattrs>=22.2 (from requests-cache<0.10.0,>=0.9.7->kerykeion)\n",
            "  Downloading cattrs-23.2.3-py3-none-any.whl.metadata (10 kB)\n",
            "Collecting url-normalize>=1.4 (from requests-cache<0.10.0,>=0.9.7->kerykeion)\n",
            "  Downloading url_normalize-1.4.3-py2.py3-none-any.whl.metadata (3.1 kB)\n",
            "Requirement already satisfied: exceptiongroup>=1.1.1 in /usr/local/lib/python3.10/dist-packages (from cattrs>=22.2->requests-cache<0.10.0,>=0.9.7->kerykeion) (1.2.0)\n",
            "Requirement already satisfied: six in /usr/local/lib/python3.10/dist-packages (from url-normalize>=1.4->requests-cache<0.10.0,>=0.9.7->kerykeion) (1.16.0)\n",
            "Downloading kerykeion-4.4.2-py3-none-any.whl (303 kB)\n",
            "\u001b[2K   \u001b[90m━━━━━━━━━━━━━━━━━━━━━━━━━━━━━━━━━━━━━━━━\u001b[0m \u001b[32m303.9/303.9 kB\u001b[0m \u001b[31m11.6 MB/s\u001b[0m eta \u001b[36m0:00:00\u001b[0m\n",
            "\u001b[?25hDownloading pyswisseph-2.10.3.2-cp310-cp310-manylinux_2_17_x86_64.manylinux2014_x86_64.whl (1.8 MB)\n",
            "\u001b[2K   \u001b[90m━━━━━━━━━━━━━━━━━━━━━━━━━━━━━━━━━━━━━━━━\u001b[0m \u001b[32m1.8/1.8 MB\u001b[0m \u001b[31m69.4 MB/s\u001b[0m eta \u001b[36m0:00:00\u001b[0m\n",
            "\u001b[?25hDownloading pytz-2022.7.1-py2.py3-none-any.whl (499 kB)\n",
            "\u001b[2K   \u001b[90m━━━━━━━━━━━━━━━━━━━━━━━━━━━━━━━━━━━━━━━━\u001b[0m \u001b[32m499.4/499.4 kB\u001b[0m \u001b[31m36.0 MB/s\u001b[0m eta \u001b[36m0:00:00\u001b[0m\n",
            "\u001b[?25hDownloading requests_cache-0.9.8-py3-none-any.whl (48 kB)\n",
            "\u001b[2K   \u001b[90m━━━━━━━━━━━━━━━━━━━━━━━━━━━━━━━━━━━━━━━━\u001b[0m \u001b[32m48.7/48.7 kB\u001b[0m \u001b[31m4.1 MB/s\u001b[0m eta \u001b[36m0:00:00\u001b[0m\n",
            "\u001b[?25hDownloading terminaltables-3.1.10-py2.py3-none-any.whl (15 kB)\n",
            "Downloading cattrs-23.2.3-py3-none-any.whl (57 kB)\n",
            "\u001b[2K   \u001b[90m━━━━━━━━━━━━━━━━━━━━━━━━━━━━━━━━━━━━━━━━\u001b[0m \u001b[32m57.5/57.5 kB\u001b[0m \u001b[31m5.4 MB/s\u001b[0m eta \u001b[36m0:00:00\u001b[0m\n",
            "\u001b[?25hDownloading url_normalize-1.4.3-py2.py3-none-any.whl (6.8 kB)\n",
            "Installing collected packages: pytz, url-normalize, terminaltables, pyswisseph, cattrs, requests-cache, kerykeion\n",
            "  Attempting uninstall: pytz\n",
            "    Found existing installation: pytz 2023.4\n",
            "    Uninstalling pytz-2023.4:\n",
            "      Successfully uninstalled pytz-2023.4\n",
            "Successfully installed cattrs-23.2.3 kerykeion-4.4.2 pyswisseph-2.10.3.2 pytz-2022.7.1 requests-cache-0.9.8 terminaltables-3.1.10 url-normalize-1.4.3\n",
            "\u001b[33mWARNING: Running pip as the 'root' user can result in broken permissions and conflicting behaviour with the system package manager. It is recommended to use a virtual environment instead: https://pip.pypa.io/warnings/venv\u001b[0m\u001b[33m\n",
            "\u001b[0m"
          ]
        }
      ]
    },
    {
      "source": [
        "from kerykeion import AstrologicalSubject"
      ],
      "cell_type": "code",
      "metadata": {
        "id": "SOtclHkRNX4a"
      },
      "execution_count": 4,
      "outputs": []
    },
    {
      "source": [
        "kanye = AstrologicalSubject(\"Kanye\", 1977, 6, 8, 8, 45, \"Atlanta\")"
      ],
      "cell_type": "code",
      "metadata": {
        "colab": {
          "base_uri": "https://localhost:8080/"
        },
        "id": "a636AKtmNZ-r",
        "outputId": "b956ed1b-1de0-42c7-b186-29524a76a22f"
      },
      "execution_count": 5,
      "outputs": [
        {
          "output_type": "stream",
          "name": "stderr",
          "text": [
            "WARNING:root:No nation specified, using GB as default\n",
            "WARNING:root:No latitude specified, using London as default\n",
            "WARNING:root:No longitude specified, using London as default\n"
          ]
        }
      ]
    },
    {
      "source": [
        "kanye.sun"
      ],
      "cell_type": "code",
      "metadata": {
        "colab": {
          "base_uri": "https://localhost:8080/"
        },
        "id": "LzD2jXbNNdxu",
        "outputId": "ef441a5c-c576-4d31-87e0-409ea27eb34e"
      },
      "execution_count": 7,
      "outputs": [
        {
          "output_type": "execute_result",
          "data": {
            "text/plain": [
              "{'name': 'Sun', 'quality': 'Mutable', 'element': 'Air', 'sign': 'Gem', 'sign_num': 2, 'position': 17.598992059774275, 'abs_pos': 77.59899205977428, 'emoji': '♊️', 'point_type': 'Planet', 'house': 'Twelfth_House', 'retrograde': False}"
            ]
          },
          "metadata": {},
          "execution_count": 7
        }
      ]
    },
    {
      "cell_type": "code",
      "source": [
        "kanye.first_house"
      ],
      "metadata": {
        "colab": {
          "base_uri": "https://localhost:8080/"
        },
        "id": "EvcVmQgPNgSy",
        "outputId": "51ace225-face-4359-e992-60fb3963a30a"
      },
      "execution_count": 9,
      "outputs": [
        {
          "output_type": "execute_result",
          "data": {
            "text/plain": [
              "{'name': 'First_House', 'quality': 'Cardinal', 'element': 'Water', 'sign': 'Can', 'sign_num': 3, 'position': 17.995779673209114, 'abs_pos': 107.99577967320911, 'emoji': '♋️', 'point_type': 'House'}"
            ]
          },
          "metadata": {},
          "execution_count": 9
        }
      ]
    },
    {
      "cell_type": "code",
      "source": [
        "kanye.moon.element"
      ],
      "metadata": {
        "colab": {
          "base_uri": "https://localhost:8080/",
          "height": 35
        },
        "id": "jXIEmJSiNl-0",
        "outputId": "f594a952-e2cf-46b9-a061-30b57a39c311"
      },
      "execution_count": 11,
      "outputs": [
        {
          "output_type": "execute_result",
          "data": {
            "text/plain": [
              "'Water'"
            ],
            "application/vnd.google.colaboratory.intrinsic+json": {
              "type": "string"
            }
          },
          "metadata": {},
          "execution_count": 11
        }
      ]
    },
    {
      "cell_type": "code",
      "source": [
        "import matplotlib.pyplot as plt\n",
        "from kerykeion import AstrologicalSubject, KerykeionChartSVG"
      ],
      "metadata": {
        "id": "WctMD2iMNqQ6"
      },
      "execution_count": 13,
      "outputs": []
    },
    {
      "cell_type": "code",
      "source": [
        "from kerykeion import AstrologicalSubject, KerykeionChartSVG\n",
        "\n",
        "first = AstrologicalSubject(\"Jack\", 1990, 6, 15, 15, 15, \"Roma\")\n",
        "second = AstrologicalSubject(\"Jane\", 1991, 10, 25, 21, 00, \"Roma\")\n",
        "\n",
        "# Set the type, it can be Natal, Synastry or Transit\n",
        "\n",
        "name = KerykeionChartSVG(first, chart_type=\"Synastry\", second_obj=second)\n",
        "name.makeSVG()\n",
        "print(len(name.aspects_list))"
      ],
      "metadata": {
        "colab": {
          "base_uri": "https://localhost:8080/"
        },
        "id": "A4F98KaVNuAH",
        "outputId": "5189ce94-d43e-4524-eef2-373edf541b1f"
      },
      "execution_count": 15,
      "outputs": [
        {
          "output_type": "stream",
          "name": "stderr",
          "text": [
            "WARNING:root:No nation specified, using GB as default\n",
            "WARNING:root:No latitude specified, using London as default\n",
            "WARNING:root:No longitude specified, using London as default\n",
            "WARNING:root:No nation specified, using GB as default\n",
            "WARNING:root:No latitude specified, using London as default\n",
            "WARNING:root:No longitude specified, using London as default\n"
          ]
        },
        {
          "output_type": "stream",
          "name": "stdout",
          "text": [
            "69\n"
          ]
        }
      ]
    },
    {
      "cell_type": "code",
      "source": [
        "from kerykeion import Report, AstrologicalSubject\n",
        "\n",
        "kanye = AstrologicalSubject(\"Kanye\", 1977, 6, 8, 8, 45, \"Atlanta\")\n",
        "report = Report(kanye)\n",
        "report.print_report()"
      ],
      "metadata": {
        "colab": {
          "base_uri": "https://localhost:8080/"
        },
        "id": "B7wHwLwMNxHQ",
        "outputId": "ba2c4d03-0019-4ba7-da35-a87f99b3c917"
      },
      "execution_count": 17,
      "outputs": [
        {
          "output_type": "stream",
          "name": "stderr",
          "text": [
            "WARNING:root:No nation specified, using GB as default\n",
            "WARNING:root:No latitude specified, using London as default\n",
            "WARNING:root:No longitude specified, using London as default\n"
          ]
        },
        {
          "output_type": "stream",
          "name": "stdout",
          "text": [
            "\n",
            "+- Kerykeion report for Kanye -+\n",
            "+----------+------+-------------+-----------+----------+\n",
            "| Date     | Time | Location    | Longitude | Latitude |\n",
            "+----------+------+-------------+-----------+----------+\n",
            "| 8/6/1977 | 8:45 | Atlanta, US | -84.38798 | 33.749   |\n",
            "+----------+------+-------------+-----------+----------+\n",
            "+-----------+------+-------+------+----------------+\n",
            "| Planet    | Sign | Pos.  | Ret. | House          |\n",
            "+-----------+------+-------+------+----------------+\n",
            "| Sun       | Gem  | 17.6  | -    | Twelfth_House  |\n",
            "| Moon      | Pis  | 16.43 | -    | Ninth_House    |\n",
            "| Mercury   | Tau  | 26.29 | -    | Eleventh_House |\n",
            "| Venus     | Tau  | 2.03  | -    | Tenth_House    |\n",
            "| Mars      | Tau  | 1.79  | -    | Tenth_House    |\n",
            "| Jupiter   | Gem  | 14.61 | -    | Eleventh_House |\n",
            "| Saturn    | Leo  | 12.8  | -    | Second_House   |\n",
            "| Uranus    | Sco  | 8.27  | R    | Fourth_House   |\n",
            "| Neptune   | Sag  | 14.69 | R    | Fifth_House    |\n",
            "| Pluto     | Lib  | 11.45 | R    | Fourth_House   |\n",
            "| Mean_Node | Lib  | 21.49 | R    | Fourth_House   |\n",
            "| True_Node | Lib  | 22.82 | R    | Fourth_House   |\n",
            "| Chiron    | Tau  | 4.17  | -    | Tenth_House    |\n",
            "+-----------+------+-------+------+----------------+\n",
            "+----------------+------+----------+\n",
            "| House          | Sign | Position |\n",
            "+----------------+------+----------+\n",
            "| First_House    | Can  | 18.0     |\n",
            "| Second_House   | Leo  | 9.51     |\n",
            "| Third_House    | Vir  | 4.02     |\n",
            "| Fourth_House   | Lib  | 3.98     |\n",
            "| Fifth_House    | Sco  | 9.39     |\n",
            "| Sixth_House    | Sag  | 15.68    |\n",
            "| Seventh_House  | Cap  | 18.0     |\n",
            "| Eighth_House   | Aqu  | 9.51     |\n",
            "| Ninth_House    | Pis  | 4.02     |\n",
            "| Tenth_House    | Ari  | 3.98     |\n",
            "| Eleventh_House | Tau  | 9.39     |\n",
            "| Twelfth_House  | Gem  | 15.68    |\n",
            "+----------------+------+----------+\n"
          ]
        }
      ]
    },
    {
      "cell_type": "code",
      "source": [
        "import pandas as pd"
      ],
      "metadata": {
        "id": "vjIsHpi8N23b"
      },
      "execution_count": 19,
      "outputs": []
    },
    {
      "cell_type": "code",
      "source": [
        "df=pd.read_csv(\"famous_people_birthdays-_1_.csv\")\n",
        "df.head()\n",
        " #df[\"Most_successful_year\"]"
      ],
      "metadata": {
        "colab": {
          "base_uri": "https://localhost:8080/",
          "height": 330
        },
        "id": "KZOiCpowPn8s",
        "outputId": "1abb0281-c39c-4919-b1df-172a03f5462f"
      },
      "execution_count": 39,
      "outputs": [
        {
          "output_type": "execute_result",
          "data": {
            "text/plain": [
              "                 Name  Year  Month  Day  Hour  Minutes       City  \\\n",
              "0        Barack Obama  1961      8    4    19       24   Honolulu   \n",
              "1       Oprah Winfrey  1954      1   29     4       30  Kosciusko   \n",
              "2      Nelson Mandela  1918      7   18    14       54      Mvezo   \n",
              "3  Queen Elizabeth II  1926      4   21     2       40     London   \n",
              "4          Dalai Lama  1935      7    6     4       38    Taktser   \n",
              "\n",
              "           Nation  Least_successful_year  Most_successful_year   \n",
              "0   United States                   2016                   2009  \n",
              "1   United States                   1976                   1986  \n",
              "2    South Africa                   1962                   1994  \n",
              "3  United Kingdom                   1992                   1952  \n",
              "4           China                   1959                   1989  "
            ],
            "text/html": [
              "\n",
              "  <div id=\"df-d0384a7d-31a4-4a68-870f-02bce73b3163\" class=\"colab-df-container\">\n",
              "    <div>\n",
              "<style scoped>\n",
              "    .dataframe tbody tr th:only-of-type {\n",
              "        vertical-align: middle;\n",
              "    }\n",
              "\n",
              "    .dataframe tbody tr th {\n",
              "        vertical-align: top;\n",
              "    }\n",
              "\n",
              "    .dataframe thead th {\n",
              "        text-align: right;\n",
              "    }\n",
              "</style>\n",
              "<table border=\"1\" class=\"dataframe\">\n",
              "  <thead>\n",
              "    <tr style=\"text-align: right;\">\n",
              "      <th></th>\n",
              "      <th>Name</th>\n",
              "      <th>Year</th>\n",
              "      <th>Month</th>\n",
              "      <th>Day</th>\n",
              "      <th>Hour</th>\n",
              "      <th>Minutes</th>\n",
              "      <th>City</th>\n",
              "      <th>Nation</th>\n",
              "      <th>Least_successful_year</th>\n",
              "      <th>Most_successful_year</th>\n",
              "    </tr>\n",
              "  </thead>\n",
              "  <tbody>\n",
              "    <tr>\n",
              "      <th>0</th>\n",
              "      <td>Barack Obama</td>\n",
              "      <td>1961</td>\n",
              "      <td>8</td>\n",
              "      <td>4</td>\n",
              "      <td>19</td>\n",
              "      <td>24</td>\n",
              "      <td>Honolulu</td>\n",
              "      <td>United States</td>\n",
              "      <td>2016</td>\n",
              "      <td>2009</td>\n",
              "    </tr>\n",
              "    <tr>\n",
              "      <th>1</th>\n",
              "      <td>Oprah Winfrey</td>\n",
              "      <td>1954</td>\n",
              "      <td>1</td>\n",
              "      <td>29</td>\n",
              "      <td>4</td>\n",
              "      <td>30</td>\n",
              "      <td>Kosciusko</td>\n",
              "      <td>United States</td>\n",
              "      <td>1976</td>\n",
              "      <td>1986</td>\n",
              "    </tr>\n",
              "    <tr>\n",
              "      <th>2</th>\n",
              "      <td>Nelson Mandela</td>\n",
              "      <td>1918</td>\n",
              "      <td>7</td>\n",
              "      <td>18</td>\n",
              "      <td>14</td>\n",
              "      <td>54</td>\n",
              "      <td>Mvezo</td>\n",
              "      <td>South Africa</td>\n",
              "      <td>1962</td>\n",
              "      <td>1994</td>\n",
              "    </tr>\n",
              "    <tr>\n",
              "      <th>3</th>\n",
              "      <td>Queen Elizabeth II</td>\n",
              "      <td>1926</td>\n",
              "      <td>4</td>\n",
              "      <td>21</td>\n",
              "      <td>2</td>\n",
              "      <td>40</td>\n",
              "      <td>London</td>\n",
              "      <td>United Kingdom</td>\n",
              "      <td>1992</td>\n",
              "      <td>1952</td>\n",
              "    </tr>\n",
              "    <tr>\n",
              "      <th>4</th>\n",
              "      <td>Dalai Lama</td>\n",
              "      <td>1935</td>\n",
              "      <td>7</td>\n",
              "      <td>6</td>\n",
              "      <td>4</td>\n",
              "      <td>38</td>\n",
              "      <td>Taktser</td>\n",
              "      <td>China</td>\n",
              "      <td>1959</td>\n",
              "      <td>1989</td>\n",
              "    </tr>\n",
              "  </tbody>\n",
              "</table>\n",
              "</div>\n",
              "    <div class=\"colab-df-buttons\">\n",
              "\n",
              "  <div class=\"colab-df-container\">\n",
              "    <button class=\"colab-df-convert\" onclick=\"convertToInteractive('df-d0384a7d-31a4-4a68-870f-02bce73b3163')\"\n",
              "            title=\"Convert this dataframe to an interactive table.\"\n",
              "            style=\"display:none;\">\n",
              "\n",
              "  <svg xmlns=\"http://www.w3.org/2000/svg\" height=\"24px\" viewBox=\"0 -960 960 960\">\n",
              "    <path d=\"M120-120v-720h720v720H120Zm60-500h600v-160H180v160Zm220 220h160v-160H400v160Zm0 220h160v-160H400v160ZM180-400h160v-160H180v160Zm440 0h160v-160H620v160ZM180-180h160v-160H180v160Zm440 0h160v-160H620v160Z\"/>\n",
              "  </svg>\n",
              "    </button>\n",
              "\n",
              "  <style>\n",
              "    .colab-df-container {\n",
              "      display:flex;\n",
              "      gap: 12px;\n",
              "    }\n",
              "\n",
              "    .colab-df-convert {\n",
              "      background-color: #E8F0FE;\n",
              "      border: none;\n",
              "      border-radius: 50%;\n",
              "      cursor: pointer;\n",
              "      display: none;\n",
              "      fill: #1967D2;\n",
              "      height: 32px;\n",
              "      padding: 0 0 0 0;\n",
              "      width: 32px;\n",
              "    }\n",
              "\n",
              "    .colab-df-convert:hover {\n",
              "      background-color: #E2EBFA;\n",
              "      box-shadow: 0px 1px 2px rgba(60, 64, 67, 0.3), 0px 1px 3px 1px rgba(60, 64, 67, 0.15);\n",
              "      fill: #174EA6;\n",
              "    }\n",
              "\n",
              "    .colab-df-buttons div {\n",
              "      margin-bottom: 4px;\n",
              "    }\n",
              "\n",
              "    [theme=dark] .colab-df-convert {\n",
              "      background-color: #3B4455;\n",
              "      fill: #D2E3FC;\n",
              "    }\n",
              "\n",
              "    [theme=dark] .colab-df-convert:hover {\n",
              "      background-color: #434B5C;\n",
              "      box-shadow: 0px 1px 3px 1px rgba(0, 0, 0, 0.15);\n",
              "      filter: drop-shadow(0px 1px 2px rgba(0, 0, 0, 0.3));\n",
              "      fill: #FFFFFF;\n",
              "    }\n",
              "  </style>\n",
              "\n",
              "    <script>\n",
              "      const buttonEl =\n",
              "        document.querySelector('#df-d0384a7d-31a4-4a68-870f-02bce73b3163 button.colab-df-convert');\n",
              "      buttonEl.style.display =\n",
              "        google.colab.kernel.accessAllowed ? 'block' : 'none';\n",
              "\n",
              "      async function convertToInteractive(key) {\n",
              "        const element = document.querySelector('#df-d0384a7d-31a4-4a68-870f-02bce73b3163');\n",
              "        const dataTable =\n",
              "          await google.colab.kernel.invokeFunction('convertToInteractive',\n",
              "                                                    [key], {});\n",
              "        if (!dataTable) return;\n",
              "\n",
              "        const docLinkHtml = 'Like what you see? Visit the ' +\n",
              "          '<a target=\"_blank\" href=https://colab.research.google.com/notebooks/data_table.ipynb>data table notebook</a>'\n",
              "          + ' to learn more about interactive tables.';\n",
              "        element.innerHTML = '';\n",
              "        dataTable['output_type'] = 'display_data';\n",
              "        await google.colab.output.renderOutput(dataTable, element);\n",
              "        const docLink = document.createElement('div');\n",
              "        docLink.innerHTML = docLinkHtml;\n",
              "        element.appendChild(docLink);\n",
              "      }\n",
              "    </script>\n",
              "  </div>\n",
              "\n",
              "\n",
              "<div id=\"df-8be06d0b-d414-445c-924a-886f60095282\">\n",
              "  <button class=\"colab-df-quickchart\" onclick=\"quickchart('df-8be06d0b-d414-445c-924a-886f60095282')\"\n",
              "            title=\"Suggest charts\"\n",
              "            style=\"display:none;\">\n",
              "\n",
              "<svg xmlns=\"http://www.w3.org/2000/svg\" height=\"24px\"viewBox=\"0 0 24 24\"\n",
              "     width=\"24px\">\n",
              "    <g>\n",
              "        <path d=\"M19 3H5c-1.1 0-2 .9-2 2v14c0 1.1.9 2 2 2h14c1.1 0 2-.9 2-2V5c0-1.1-.9-2-2-2zM9 17H7v-7h2v7zm4 0h-2V7h2v10zm4 0h-2v-4h2v4z\"/>\n",
              "    </g>\n",
              "</svg>\n",
              "  </button>\n",
              "\n",
              "<style>\n",
              "  .colab-df-quickchart {\n",
              "      --bg-color: #E8F0FE;\n",
              "      --fill-color: #1967D2;\n",
              "      --hover-bg-color: #E2EBFA;\n",
              "      --hover-fill-color: #174EA6;\n",
              "      --disabled-fill-color: #AAA;\n",
              "      --disabled-bg-color: #DDD;\n",
              "  }\n",
              "\n",
              "  [theme=dark] .colab-df-quickchart {\n",
              "      --bg-color: #3B4455;\n",
              "      --fill-color: #D2E3FC;\n",
              "      --hover-bg-color: #434B5C;\n",
              "      --hover-fill-color: #FFFFFF;\n",
              "      --disabled-bg-color: #3B4455;\n",
              "      --disabled-fill-color: #666;\n",
              "  }\n",
              "\n",
              "  .colab-df-quickchart {\n",
              "    background-color: var(--bg-color);\n",
              "    border: none;\n",
              "    border-radius: 50%;\n",
              "    cursor: pointer;\n",
              "    display: none;\n",
              "    fill: var(--fill-color);\n",
              "    height: 32px;\n",
              "    padding: 0;\n",
              "    width: 32px;\n",
              "  }\n",
              "\n",
              "  .colab-df-quickchart:hover {\n",
              "    background-color: var(--hover-bg-color);\n",
              "    box-shadow: 0 1px 2px rgba(60, 64, 67, 0.3), 0 1px 3px 1px rgba(60, 64, 67, 0.15);\n",
              "    fill: var(--button-hover-fill-color);\n",
              "  }\n",
              "\n",
              "  .colab-df-quickchart-complete:disabled,\n",
              "  .colab-df-quickchart-complete:disabled:hover {\n",
              "    background-color: var(--disabled-bg-color);\n",
              "    fill: var(--disabled-fill-color);\n",
              "    box-shadow: none;\n",
              "  }\n",
              "\n",
              "  .colab-df-spinner {\n",
              "    border: 2px solid var(--fill-color);\n",
              "    border-color: transparent;\n",
              "    border-bottom-color: var(--fill-color);\n",
              "    animation:\n",
              "      spin 1s steps(1) infinite;\n",
              "  }\n",
              "\n",
              "  @keyframes spin {\n",
              "    0% {\n",
              "      border-color: transparent;\n",
              "      border-bottom-color: var(--fill-color);\n",
              "      border-left-color: var(--fill-color);\n",
              "    }\n",
              "    20% {\n",
              "      border-color: transparent;\n",
              "      border-left-color: var(--fill-color);\n",
              "      border-top-color: var(--fill-color);\n",
              "    }\n",
              "    30% {\n",
              "      border-color: transparent;\n",
              "      border-left-color: var(--fill-color);\n",
              "      border-top-color: var(--fill-color);\n",
              "      border-right-color: var(--fill-color);\n",
              "    }\n",
              "    40% {\n",
              "      border-color: transparent;\n",
              "      border-right-color: var(--fill-color);\n",
              "      border-top-color: var(--fill-color);\n",
              "    }\n",
              "    60% {\n",
              "      border-color: transparent;\n",
              "      border-right-color: var(--fill-color);\n",
              "    }\n",
              "    80% {\n",
              "      border-color: transparent;\n",
              "      border-right-color: var(--fill-color);\n",
              "      border-bottom-color: var(--fill-color);\n",
              "    }\n",
              "    90% {\n",
              "      border-color: transparent;\n",
              "      border-bottom-color: var(--fill-color);\n",
              "    }\n",
              "  }\n",
              "</style>\n",
              "\n",
              "  <script>\n",
              "    async function quickchart(key) {\n",
              "      const quickchartButtonEl =\n",
              "        document.querySelector('#' + key + ' button');\n",
              "      quickchartButtonEl.disabled = true;  // To prevent multiple clicks.\n",
              "      quickchartButtonEl.classList.add('colab-df-spinner');\n",
              "      try {\n",
              "        const charts = await google.colab.kernel.invokeFunction(\n",
              "            'suggestCharts', [key], {});\n",
              "      } catch (error) {\n",
              "        console.error('Error during call to suggestCharts:', error);\n",
              "      }\n",
              "      quickchartButtonEl.classList.remove('colab-df-spinner');\n",
              "      quickchartButtonEl.classList.add('colab-df-quickchart-complete');\n",
              "    }\n",
              "    (() => {\n",
              "      let quickchartButtonEl =\n",
              "        document.querySelector('#df-8be06d0b-d414-445c-924a-886f60095282 button');\n",
              "      quickchartButtonEl.style.display =\n",
              "        google.colab.kernel.accessAllowed ? 'block' : 'none';\n",
              "    })();\n",
              "  </script>\n",
              "</div>\n",
              "\n",
              "    </div>\n",
              "  </div>\n"
            ],
            "application/vnd.google.colaboratory.intrinsic+json": {
              "type": "dataframe",
              "summary": "{\n  \"name\": \" #df[\\\"Most_successful_year\\\"]\",\n  \"rows\": 5,\n  \"fields\": [\n    {\n      \"column\": \"Name\",\n      \"properties\": {\n        \"dtype\": \"string\",\n        \"num_unique_values\": 5,\n        \"samples\": [\n          \"Oprah Winfrey\",\n          \"Dalai Lama\",\n          \"Nelson Mandela\"\n        ],\n        \"semantic_type\": \"\",\n        \"description\": \"\"\n      }\n    },\n    {\n      \"column\": \"Year\",\n      \"properties\": {\n        \"dtype\": \"number\",\n        \"std\": 18,\n        \"min\": 1918,\n        \"max\": 1961,\n        \"num_unique_values\": 5,\n        \"samples\": [\n          1954,\n          1935,\n          1918\n        ],\n        \"semantic_type\": \"\",\n        \"description\": \"\"\n      }\n    },\n    {\n      \"column\": \"Month\",\n      \"properties\": {\n        \"dtype\": \"number\",\n        \"std\": 2,\n        \"min\": 1,\n        \"max\": 8,\n        \"num_unique_values\": 4,\n        \"samples\": [\n          1,\n          4,\n          8\n        ],\n        \"semantic_type\": \"\",\n        \"description\": \"\"\n      }\n    },\n    {\n      \"column\": \"Day\",\n      \"properties\": {\n        \"dtype\": \"number\",\n        \"std\": 10,\n        \"min\": 4,\n        \"max\": 29,\n        \"num_unique_values\": 5,\n        \"samples\": [\n          29,\n          6,\n          18\n        ],\n        \"semantic_type\": \"\",\n        \"description\": \"\"\n      }\n    },\n    {\n      \"column\": \"Hour\",\n      \"properties\": {\n        \"dtype\": \"number\",\n        \"std\": 7,\n        \"min\": 2,\n        \"max\": 19,\n        \"num_unique_values\": 4,\n        \"samples\": [\n          4,\n          2,\n          19\n        ],\n        \"semantic_type\": \"\",\n        \"description\": \"\"\n      }\n    },\n    {\n      \"column\": \"Minutes\",\n      \"properties\": {\n        \"dtype\": \"number\",\n        \"std\": 11,\n        \"min\": 24,\n        \"max\": 54,\n        \"num_unique_values\": 5,\n        \"samples\": [\n          30,\n          38,\n          54\n        ],\n        \"semantic_type\": \"\",\n        \"description\": \"\"\n      }\n    },\n    {\n      \"column\": \"City\",\n      \"properties\": {\n        \"dtype\": \"string\",\n        \"num_unique_values\": 5,\n        \"samples\": [\n          \"Kosciusko\",\n          \"Taktser\",\n          \"Mvezo\"\n        ],\n        \"semantic_type\": \"\",\n        \"description\": \"\"\n      }\n    },\n    {\n      \"column\": \"Nation\",\n      \"properties\": {\n        \"dtype\": \"string\",\n        \"num_unique_values\": 4,\n        \"samples\": [\n          \"South Africa\",\n          \"China\",\n          \"United States\"\n        ],\n        \"semantic_type\": \"\",\n        \"description\": \"\"\n      }\n    },\n    {\n      \"column\": \"Least_successful_year\",\n      \"properties\": {\n        \"dtype\": \"number\",\n        \"std\": 23,\n        \"min\": 1959,\n        \"max\": 2016,\n        \"num_unique_values\": 5,\n        \"samples\": [\n          1976,\n          1959,\n          1962\n        ],\n        \"semantic_type\": \"\",\n        \"description\": \"\"\n      }\n    },\n    {\n      \"column\": \"Most_successful_year \",\n      \"properties\": {\n        \"dtype\": \"number\",\n        \"std\": 20,\n        \"min\": 1952,\n        \"max\": 2009,\n        \"num_unique_values\": 5,\n        \"samples\": [\n          1986,\n          1989,\n          1994\n        ],\n        \"semantic_type\": \"\",\n        \"description\": \"\"\n      }\n    }\n  ]\n}"
            }
          },
          "metadata": {},
          "execution_count": 39
        }
      ]
    },
    {
      "cell_type": "code",
      "source": [
        "import swisseph as swe"
      ],
      "metadata": {
        "id": "mFDbCqfBQBPw"
      },
      "execution_count": 23,
      "outputs": []
    },
    {
      "cell_type": "code",
      "source": [
        "swe.set_ephe_path('/opt/conda/lib/python3.10/site-packages/kerykeion/sweph/')"
      ],
      "metadata": {
        "id": "gbZt9PYAQMXW"
      },
      "execution_count": 24,
      "outputs": []
    },
    {
      "cell_type": "code",
      "source": [
        "import pandas as pd\n",
        "from kerykeion import AstrologicalSubject\n",
        "\n",
        "astrological_subjects = []\n",
        "for _, row in df.head(4).iterrows():\n",
        "    a = AstrologicalSubject(\n",
        "        str(row[\"Name\"]),\n",
        "        row[\"Year\"],\n",
        "        row[\"Month\"],\n",
        "        row[\"Day\"],\n",
        "        row[\"Hour\"],\n",
        "        row[\"Minutes\"],\n",
        "        str(row[\"City\"]),\n",
        "        row[\"Least_successful_year\"],\n",
        "        str(row[\"Most_successful_year \"])\n",
        "    )\n",
        "    astrological_subjects.append(a)\n"
      ],
      "metadata": {
        "colab": {
          "base_uri": "https://localhost:8080/"
        },
        "id": "iRvoGeqKQOn-",
        "outputId": "d9205fcd-31c4-44a7-ff81-628eb7fc7ff2"
      },
      "execution_count": 48,
      "outputs": [
        {
          "output_type": "stream",
          "name": "stderr",
          "text": [
            "WARNING:root:No latitude specified, using London as default\n",
            "WARNING:root:No latitude specified, using London as default\n",
            "WARNING:root:No latitude specified, using London as default\n",
            "WARNING:root:No latitude specified, using London as default\n"
          ]
        }
      ]
    },
    {
      "cell_type": "code",
      "source": [
        "astrological_subjects"
      ],
      "metadata": {
        "colab": {
          "base_uri": "https://localhost:8080/"
        },
        "id": "oxa1Nt49URsw",
        "outputId": "ce81aa8d-8343-4bad-a6ff-8a9015f5b8ed"
      },
      "execution_count": 49,
      "outputs": [
        {
          "output_type": "execute_result",
          "data": {
            "text/plain": [
              "[Astrological data for: Barack Obama, 1961-08-05 05:24:00+00:00 UTC\n",
              " Birth location: Honolulu, Lat 21.30694, Lon -157.85833,\n",
              " Astrological data for: Oprah Winfrey, 1954-01-29 10:30:00+00:00 UTC\n",
              " Birth location: Kosciusko, Lat 41.2441, Lon -85.86072,\n",
              " Astrological data for: Nelson Mandela, 1918-07-18 12:54:00+00:00 UTC\n",
              " Birth location: Mvezo, Lat -31.94948, Lon 28.51793,\n",
              " Astrological data for: Queen Elizabeth II, 1926-04-21 01:40:00+00:00 UTC\n",
              " Birth location: London, Lat 51.50853, Lon -0.12574]"
            ]
          },
          "metadata": {},
          "execution_count": 49
        }
      ]
    },
    {
      "cell_type": "code",
      "source": [
        "from kerykeion import AstrologicalSubject, KerykeionChartSVG\n",
        "\n",
        "first = AstrologicalSubject(\"Jack\", 1990, 6, 15, 15, 15, \"Roma\")\n",
        "second = AstrologicalSubject(\"Jane\", 1991, 10, 25, 21, 00, \"Roma\")\n",
        "\n",
        "# Set the type, it can be Natal, Synastry or Transit\n",
        "\n",
        "name = KerykeionChartSVG(first, chart_type=\"Synastry\", second_obj=second)\n",
        "try:\n",
        "    name.makeSVG()\n",
        "except Exception as e:\n",
        "    print(\"Error occurred while generating SVG:\", str(e))"
      ],
      "metadata": {
        "colab": {
          "base_uri": "https://localhost:8080/"
        },
        "id": "oRK7xJbDUZdz",
        "outputId": "cb9d9757-5dbf-438c-a7a5-c6702929cb7b"
      },
      "execution_count": 51,
      "outputs": [
        {
          "output_type": "stream",
          "name": "stderr",
          "text": [
            "WARNING:root:No nation specified, using GB as default\n",
            "WARNING:root:No latitude specified, using London as default\n",
            "WARNING:root:No longitude specified, using London as default\n",
            "WARNING:root:No nation specified, using GB as default\n",
            "WARNING:root:No latitude specified, using London as default\n",
            "WARNING:root:No longitude specified, using London as default\n"
          ]
        }
      ]
    },
    {
      "cell_type": "code",
      "source": [
        "for i in astrological_subjects:\n",
        "    report = Report(i)\n",
        "    report.print_report()\n",
        "    # for r in report:\n",
        "    #   if 'Planet'=='Sun':\n",
        "    #     Planet = 1"
      ],
      "metadata": {
        "colab": {
          "base_uri": "https://localhost:8080/"
        },
        "id": "3DXR8vDWYzBk",
        "outputId": "7439a41e-bab4-4ab9-cfa7-b01583a9335c"
      },
      "execution_count": 55,
      "outputs": [
        {
          "output_type": "stream",
          "name": "stdout",
          "text": [
            "\n",
            "+- Kerykeion report for Barack Obama -+\n",
            "+----------+-------+--------------+------------+----------+\n",
            "| Date     | Time  | Location     | Longitude  | Latitude |\n",
            "+----------+-------+--------------+------------+----------+\n",
            "| 4/8/1961 | 19:24 | Honolulu, US | -157.85833 | 21.30694 |\n",
            "+----------+-------+--------------+------------+----------+\n",
            "+-----------+------+-------+------+---------------+\n",
            "| Planet    | Sign | Pos.  | Ret. | House         |\n",
            "+-----------+------+-------+------+---------------+\n",
            "| Sun       | Leo  | 12.55 | -    | Sixth_House   |\n",
            "| Moon      | Gem  | 3.35  | -    | Fourth_House  |\n",
            "| Mercury   | Leo  | 2.33  | -    | Sixth_House   |\n",
            "| Venus     | Can  | 1.79  | -    | Fifth_House   |\n",
            "| Mars      | Vir  | 22.58 | -    | Seventh_House |\n",
            "| Jupiter   | Aqu  | 0.86  | R    | Twelfth_House |\n",
            "| Saturn    | Cap  | 25.33 | R    | Twelfth_House |\n",
            "| Uranus    | Leo  | 25.27 | -    | Seventh_House |\n",
            "| Neptune   | Sco  | 8.61  | -    | Ninth_House   |\n",
            "| Pluto     | Vir  | 6.98  | -    | Seventh_House |\n",
            "| Mean_Node | Leo  | 27.89 | R    | Seventh_House |\n",
            "| True_Node | Leo  | 27.3  | R    | Seventh_House |\n",
            "| Chiron    | Pis  | 5.32  | R    | First_House   |\n",
            "+-----------+------+-------+------+---------------+\n",
            "+----------------+------+----------+\n",
            "| House          | Sign | Position |\n",
            "+----------------+------+----------+\n",
            "| First_House    | Aqu  | 18.05    |\n",
            "| Second_House   | Pis  | 25.91    |\n",
            "| Third_House    | Tau  | 0.3      |\n",
            "| Fourth_House   | Tau  | 28.89    |\n",
            "| Fifth_House    | Gem  | 23.98    |\n",
            "| Sixth_House    | Can  | 19.02    |\n",
            "| Seventh_House  | Leo  | 18.05    |\n",
            "| Eighth_House   | Vir  | 25.91    |\n",
            "| Ninth_House    | Sco  | 0.3      |\n",
            "| Tenth_House    | Sco  | 28.89    |\n",
            "| Eleventh_House | Sag  | 23.98    |\n",
            "| Twelfth_House  | Cap  | 19.02    |\n",
            "+----------------+------+----------+\n",
            "\n",
            "+- Kerykeion report for Oprah Winfrey -+\n",
            "+-----------+------+---------------+-----------+----------+\n",
            "| Date      | Time | Location      | Longitude | Latitude |\n",
            "+-----------+------+---------------+-----------+----------+\n",
            "| 29/1/1954 | 4:30 | Kosciusko, US | -85.86072 | 41.2441  |\n",
            "+-----------+------+---------------+-----------+----------+\n",
            "+-----------+------+-------+------+----------------+\n",
            "| Planet    | Sign | Pos.  | Ret. | House          |\n",
            "+-----------+------+-------+------+----------------+\n",
            "| Sun       | Aqu  | 8.99  | -    | Second_House   |\n",
            "| Moon      | Sag  | 4.53  | -    | Eleventh_House |\n",
            "| Mercury   | Aqu  | 19.16 | -    | Second_House   |\n",
            "| Venus     | Aqu  | 8.85  | -    | Second_House   |\n",
            "| Mars      | Sco  | 23.58 | -    | Eleventh_House |\n",
            "| Jupiter   | Gem  | 16.66 | R    | Sixth_House    |\n",
            "| Saturn    | Sco  | 9.04  | -    | Tenth_House    |\n",
            "| Uranus    | Can  | 20.31 | R    | Seventh_House  |\n",
            "| Neptune   | Lib  | 26.06 | R    | Tenth_House    |\n",
            "| Pluto     | Leo  | 24.15 | R    | Eighth_House   |\n",
            "| Mean_Node | Cap  | 23.25 | R    | First_House    |\n",
            "| True_Node | Cap  | 23.93 | -    | First_House    |\n",
            "| Chiron    | Cap  | 23.59 | -    | First_House    |\n",
            "+-----------+------+-------+------+----------------+\n",
            "+----------------+------+----------+\n",
            "| House          | Sign | Position |\n",
            "+----------------+------+----------+\n",
            "| First_House    | Sag  | 27.66    |\n",
            "| Second_House   | Aqu  | 5.81     |\n",
            "| Third_House    | Pis  | 17.29    |\n",
            "| Fourth_House   | Ari  | 21.4     |\n",
            "| Fifth_House    | Tau  | 17.08    |\n",
            "| Sixth_House    | Gem  | 7.97     |\n",
            "| Seventh_House  | Gem  | 27.66    |\n",
            "| Eighth_House   | Leo  | 5.81     |\n",
            "| Ninth_House    | Vir  | 17.29    |\n",
            "| Tenth_House    | Lib  | 21.4     |\n",
            "| Eleventh_House | Sco  | 17.08    |\n",
            "| Twelfth_House  | Sag  | 7.97     |\n",
            "+----------------+------+----------+\n",
            "\n",
            "+- Kerykeion report for Nelson Mandela -+\n",
            "+-----------+-------+-----------+-----------+-----------+\n",
            "| Date      | Time  | Location  | Longitude | Latitude  |\n",
            "+-----------+-------+-----------+-----------+-----------+\n",
            "| 18/7/1918 | 14:54 | Mvezo, ZA | 28.51793  | -31.94948 |\n",
            "+-----------+-------+-----------+-----------+-----------+\n",
            "+-----------+------+-------+------+----------------+\n",
            "| Planet    | Sign | Pos.  | Ret. | House          |\n",
            "+-----------+------+-------+------+----------------+\n",
            "| Sun       | Can  | 25.07 | -    | Eighth_House   |\n",
            "| Moon      | Sco  | 20.25 | -    | Twelfth_House  |\n",
            "| Mercury   | Leo  | 16.13 | -    | Ninth_House    |\n",
            "| Venus     | Gem  | 22.58 | -    | Sixth_House    |\n",
            "| Mars      | Lib  | 12.58 | -    | Eleventh_House |\n",
            "| Jupiter   | Can  | 1.17  | -    | Seventh_House  |\n",
            "| Saturn    | Leo  | 15.03 | -    | Ninth_House    |\n",
            "| Uranus    | Aqu  | 26.93 | R    | Third_House    |\n",
            "| Neptune   | Leo  | 6.38  | -    | Eighth_House   |\n",
            "| Pluto     | Can  | 5.54  | -    | Seventh_House  |\n",
            "| Mean_Node | Sag  | 20.53 | R    | Twelfth_House  |\n",
            "| True_Node | Sag  | 21.83 | -    | Twelfth_House  |\n",
            "| Chiron    | Ari  | 3.42  | R    | Fourth_House   |\n",
            "+-----------+------+-------+------+----------------+\n",
            "+----------------+------+----------+\n",
            "| House          | Sign | Position |\n",
            "+----------------+------+----------+\n",
            "| First_House    | Sag  | 23.68    |\n",
            "| Second_House   | Cap  | 16.14    |\n",
            "| Third_House    | Aqu  | 9.01     |\n",
            "| Fourth_House   | Pis  | 5.74     |\n",
            "| Fifth_House    | Ari  | 9.02     |\n",
            "| Sixth_House    | Tau  | 17.34    |\n",
            "| Seventh_House  | Gem  | 23.68    |\n",
            "| Eighth_House   | Can  | 16.14    |\n",
            "| Ninth_House    | Leo  | 9.01     |\n",
            "| Tenth_House    | Vir  | 5.74     |\n",
            "| Eleventh_House | Lib  | 9.02     |\n",
            "| Twelfth_House  | Sco  | 17.34    |\n",
            "+----------------+------+----------+\n",
            "\n",
            "+- Kerykeion report for Queen Elizabeth II -+\n",
            "+-----------+------+------------+-----------+----------+\n",
            "| Date      | Time | Location   | Longitude | Latitude |\n",
            "+-----------+------+------------+-----------+----------+\n",
            "| 21/4/1926 | 2:40 | London, GB | -0.12574  | 51.50853 |\n",
            "+-----------+------+------------+-----------+----------+\n",
            "+-----------+------+-------+------+---------------+\n",
            "| Planet    | Sign | Pos.  | Ret. | House         |\n",
            "+-----------+------+-------+------+---------------+\n",
            "| Sun       | Tau  | 0.21  | -    | Second_House  |\n",
            "| Moon      | Leo  | 12.12 | -    | Seventh_House |\n",
            "| Mercury   | Ari  | 4.66  | -    | Second_House  |\n",
            "| Venus     | Pis  | 13.96 | -    | First_House   |\n",
            "| Mars      | Aqu  | 20.87 | -    | First_House   |\n",
            "| Jupiter   | Aqu  | 22.51 | -    | First_House   |\n",
            "| Saturn    | Sco  | 24.45 | R    | Ninth_House   |\n",
            "| Uranus    | Pis  | 27.36 | -    | Second_House  |\n",
            "| Neptune   | Leo  | 22.03 | R    | Seventh_House |\n",
            "| Pluto     | Can  | 12.71 | -    | Sixth_House   |\n",
            "| Mean_Node | Can  | 20.47 | R    | Sixth_House   |\n",
            "| True_Node | Can  | 20.11 | R    | Sixth_House   |\n",
            "| Chiron    | Ari  | 28.02 | -    | Second_House  |\n",
            "+-----------+------+-------+------+---------------+\n",
            "+----------------+------+----------+\n",
            "| House          | Sign | Position |\n",
            "+----------------+------+----------+\n",
            "| First_House    | Cap  | 21.42    |\n",
            "| Second_House   | Pis  | 18.49    |\n",
            "| Third_House    | Tau  | 0.34     |\n",
            "| Fourth_House   | Tau  | 25.59    |\n",
            "| Fifth_House    | Gem  | 14.13    |\n",
            "| Sixth_House    | Can  | 1.12     |\n",
            "| Seventh_House  | Can  | 21.42    |\n",
            "| Eighth_House   | Vir  | 18.49    |\n",
            "| Ninth_House    | Sco  | 0.34     |\n",
            "| Tenth_House    | Sco  | 25.59    |\n",
            "| Eleventh_House | Sag  | 14.13    |\n",
            "| Twelfth_House  | Cap  | 1.12     |\n",
            "+----------------+------+----------+\n"
          ]
        }
      ]
    },
    {
      "cell_type": "code",
      "source": [],
      "metadata": {
        "id": "oGwpgDiqZjbR"
      },
      "execution_count": null,
      "outputs": []
    }
  ]
}